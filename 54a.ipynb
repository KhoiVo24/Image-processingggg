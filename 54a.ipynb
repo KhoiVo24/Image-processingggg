{
 "cells": [
  {
   "cell_type": "code",
   "execution_count": 1,
   "id": "df689a18",
   "metadata": {},
   "outputs": [
    {
     "name": "stdout",
     "output_type": "stream",
     "text": [
      "Package                 Version\n",
      "----------------------- -----------\n",
      "asttokens               3.0.0\n",
      "certifi                 2025.8.3\n",
      "charset-normalizer      3.4.3\n",
      "colorama                0.4.6\n",
      "comm                    0.2.3\n",
      "contourpy               1.3.3\n",
      "cycler                  0.12.1\n",
      "debugpy                 1.8.17\n",
      "decorator               5.2.1\n",
      "executing               2.2.1\n",
      "fonttools               4.59.0\n",
      "idna                    3.10\n",
      "ipykernel               6.30.1\n",
      "ipython                 9.5.0\n",
      "ipython_pygments_lexers 1.1.1\n",
      "jedi                    0.19.2\n",
      "joblib                  1.5.1\n",
      "jupyter_client          8.6.3\n",
      "jupyter_core            5.8.1\n",
      "kiwisolver              1.4.9\n",
      "matplotlib              3.10.5\n",
      "matplotlib-inline       0.1.7\n",
      "nest-asyncio            1.6.0\n",
      "numby                   0.2.0\n",
      "numpy                   2.3.2\n",
      "packaging               25.0\n",
      "pandas                  2.3.2\n",
      "parso                   0.8.5\n",
      "pillow                  11.3.0\n",
      "pip                     25.2\n",
      "platformdirs            4.4.0\n",
      "prompt_toolkit          3.0.52\n",
      "psutil                  7.1.0\n",
      "pure_eval               0.2.3\n",
      "pydicom                 3.0.1\n",
      "Pygments                2.19.2\n",
      "pyparsing               3.2.3\n",
      "python-dateutil         2.9.0.post0\n",
      "pytz                    2025.2\n",
      "pywin32                 311\n",
      "pyzmq                   27.1.0\n",
      "qrcode                  8.2\n",
      "requests                2.32.4\n",
      "scikit-learn            1.7.1\n",
      "scipy                   1.16.1\n",
      "seaborn                 0.13.2\n",
      "six                     1.17.0\n",
      "stack-data              0.6.3\n",
      "threadpoolctl           3.6.0\n",
      "tornado                 6.5.2\n",
      "traitlets               5.14.3\n",
      "tzdata                  2025.2\n",
      "urllib3                 2.5.0\n",
      "wcwidth                 0.2.14\n",
      "Note: you may need to restart the kernel to use updated packages.\n"
     ]
    }
   ],
   "source": [
    "pip list"
   ]
  }
 ],
 "metadata": {
  "kernelspec": {
   "display_name": "Python 3",
   "language": "python",
   "name": "python3"
  },
  "language_info": {
   "codemirror_mode": {
    "name": "ipython",
    "version": 3
   },
   "file_extension": ".py",
   "mimetype": "text/x-python",
   "name": "python",
   "nbconvert_exporter": "python",
   "pygments_lexer": "ipython3",
   "version": "3.13.5"
  }
 },
 "nbformat": 4,
 "nbformat_minor": 5
}
